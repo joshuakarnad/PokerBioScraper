{
 "cells": [
  {
   "cell_type": "code",
   "execution_count": 1,
   "metadata": {
    "collapsed": true
   },
   "outputs": [],
   "source": [
    "import pandas as pd\n",
    "df = pd.read_json('/Users/joshuarkarnad/Desktop/Thinkful/pokerlinks.json')\n",
    "array = df['text']\n",
    "array_length = array[0]\n",
    "links = []\n",
    "for i in range(0,len(array_length)):\n",
    "    links.append(array[0][i])\n",
    "import re"
   ]
  },
  {
   "cell_type": "code",
   "execution_count": 2,
   "metadata": {},
   "outputs": [
    {
     "name": "stdout",
     "output_type": "stream",
     "text": [
      "Success!\n"
     ]
    }
   ],
   "source": [
    "# Importing in each cell because of the kernel restarts.\n",
    "import scrapy\n",
    "from scrapy.crawler import CrawlerProcess\n",
    "\n",
    "class ShirleySpider(scrapy.Spider):\n",
    "    # Naming the spider is important if you are running more than one spider of\n",
    "    # this class simultaneously.\n",
    "    name = \"ProfilePage\"\n",
    "    \n",
    "    # URL(s) to start with.\n",
    "    start_urls = links\n",
    "\n",
    "    # What to do with the URL.  Here, we tell it to download all the code and save\n",
    "    # it to the mainpage.html file\n",
    "    def parse(self, response):\n",
    "        \n",
    "        yield {\n",
    "            'text': response.xpath('//p[@class=\"article\"]').extract(),\n",
    "            'player name': response.xpath('//td[@align=\"center\"]/h1/text()').extract()\n",
    "              }\n",
    "        \n",
    "        \n",
    "            \n",
    "\n",
    "process = CrawlerProcess({\n",
    "    'FEED_FORMAT': 'json',         # Store data in JSON format.\n",
    "    'FEED_URI': 'pokerplayer.json',  # Name our storage file.\n",
    "    'LOG_ENABLED': False           # Turn off logging for now.\n",
    "})\n",
    "\n",
    "# Start the crawler with our spider.\n",
    "process.crawl(ShirleySpider)\n",
    "process.start()\n",
    "print('Success!')"
   ]
  },
  {
   "cell_type": "code",
   "execution_count": 2,
   "metadata": {},
   "outputs": [],
   "source": [
    "df2 = pd.read_json('/Users/joshuarkarnad/Desktop/Thinkful/pokerplayer.json')"
   ]
  },
  {
   "cell_type": "code",
   "execution_count": 3,
   "metadata": {},
   "outputs": [
    {
     "data": {
      "text/html": [
       "<div>\n",
       "<style>\n",
       "    .dataframe thead tr:only-child th {\n",
       "        text-align: right;\n",
       "    }\n",
       "\n",
       "    .dataframe thead th {\n",
       "        text-align: left;\n",
       "    }\n",
       "\n",
       "    .dataframe tbody tr th {\n",
       "        vertical-align: top;\n",
       "    }\n",
       "</style>\n",
       "<table border=\"1\" class=\"dataframe\">\n",
       "  <thead>\n",
       "    <tr style=\"text-align: right;\">\n",
       "      <th></th>\n",
       "      <th>player name</th>\n",
       "      <th>text</th>\n",
       "    </tr>\n",
       "  </thead>\n",
       "  <tbody>\n",
       "    <tr>\n",
       "      <th>0</th>\n",
       "      <td>[Chris Moneymaker]</td>\n",
       "      <td>[&lt;p class=\"article\"&gt;\\n      &lt;img border=\"3\" sr...</td>\n",
       "    </tr>\n",
       "    <tr>\n",
       "      <th>1</th>\n",
       "      <td>[Frankie O'Dell]</td>\n",
       "      <td>[&lt;p class=\"article\"&gt;\\n      &lt;img border=\"0\" sr...</td>\n",
       "    </tr>\n",
       "    <tr>\n",
       "      <th>2</th>\n",
       "      <td>[Steve Badger]</td>\n",
       "      <td>[&lt;p class=\"article\"&gt;&lt;img border=\"3\" src=\"Steve...</td>\n",
       "    </tr>\n",
       "    <tr>\n",
       "      <th>3</th>\n",
       "      <td>[Barbara Enright]</td>\n",
       "      <td>[&lt;p class=\"article\"&gt;\\n      &lt;img border=\"0\" sr...</td>\n",
       "    </tr>\n",
       "    <tr>\n",
       "      <th>4</th>\n",
       "      <td>[Phil Hellmuth Jr.]</td>\n",
       "      <td>[&lt;p class=\"article\"&gt;\\n      &lt;img border=\"0\" sr...</td>\n",
       "    </tr>\n",
       "    <tr>\n",
       "      <th>5</th>\n",
       "      <td>[Vanessa Rousso]</td>\n",
       "      <td>[&lt;p class=\"article\"&gt;\\n      &lt;img border=\"3\" sr...</td>\n",
       "    </tr>\n",
       "    <tr>\n",
       "      <th>6</th>\n",
       "      <td>[Phil Ivey]</td>\n",
       "      <td>[&lt;p class=\"article\"&gt;&lt;img border=\"3\" src=\"Phil-...</td>\n",
       "    </tr>\n",
       "    <tr>\n",
       "      <th>7</th>\n",
       "      <td>[Daniel Negreanu]</td>\n",
       "      <td>[&lt;p class=\"article\"&gt;\\n      &lt;img border=\"0\" sr...</td>\n",
       "    </tr>\n",
       "    <tr>\n",
       "      <th>8</th>\n",
       "      <td>[Mark Seif]</td>\n",
       "      <td>[&lt;p class=\"article\"&gt;&lt;img border=\"0\" src=\"Mark-...</td>\n",
       "    </tr>\n",
       "    <tr>\n",
       "      <th>9</th>\n",
       "      <td>[Amir Vahedi]</td>\n",
       "      <td>[&lt;p class=\"article\"&gt;\\n      &lt;img border=\"0\" sr...</td>\n",
       "    </tr>\n",
       "    <tr>\n",
       "      <th>10</th>\n",
       "      <td>[Robert Turner]</td>\n",
       "      <td>[&lt;p class=\"article\"&gt;\\n      &lt;img border=\"0\" sr...</td>\n",
       "    </tr>\n",
       "    <tr>\n",
       "      <th>11</th>\n",
       "      <td>[Mike Sexton]</td>\n",
       "      <td>[&lt;p class=\"article\"&gt;&lt;img border=\"0\" src=\"Mike-...</td>\n",
       "    </tr>\n",
       "    <tr>\n",
       "      <th>12</th>\n",
       "      <td>[Shirley Rosario Interview]</td>\n",
       "      <td>[&lt;p class=\"article\"&gt;\\n      &lt;img border=\"0\" sr...</td>\n",
       "    </tr>\n",
       "  </tbody>\n",
       "</table>\n",
       "</div>"
      ],
      "text/plain": [
       "                    player name  \\\n",
       "0            [Chris Moneymaker]   \n",
       "1              [Frankie O'Dell]   \n",
       "2                [Steve Badger]   \n",
       "3             [Barbara Enright]   \n",
       "4           [Phil Hellmuth Jr.]   \n",
       "5              [Vanessa Rousso]   \n",
       "6                   [Phil Ivey]   \n",
       "7             [Daniel Negreanu]   \n",
       "8                   [Mark Seif]   \n",
       "9                 [Amir Vahedi]   \n",
       "10              [Robert Turner]   \n",
       "11                [Mike Sexton]   \n",
       "12  [Shirley Rosario Interview]   \n",
       "\n",
       "                                                 text  \n",
       "0   [<p class=\"article\">\\n      <img border=\"3\" sr...  \n",
       "1   [<p class=\"article\">\\n      <img border=\"0\" sr...  \n",
       "2   [<p class=\"article\"><img border=\"3\" src=\"Steve...  \n",
       "3   [<p class=\"article\">\\n      <img border=\"0\" sr...  \n",
       "4   [<p class=\"article\">\\n      <img border=\"0\" sr...  \n",
       "5   [<p class=\"article\">\\n      <img border=\"3\" sr...  \n",
       "6   [<p class=\"article\"><img border=\"3\" src=\"Phil-...  \n",
       "7   [<p class=\"article\">\\n      <img border=\"0\" sr...  \n",
       "8   [<p class=\"article\"><img border=\"0\" src=\"Mark-...  \n",
       "9   [<p class=\"article\">\\n      <img border=\"0\" sr...  \n",
       "10  [<p class=\"article\">\\n      <img border=\"0\" sr...  \n",
       "11  [<p class=\"article\"><img border=\"0\" src=\"Mike-...  \n",
       "12  [<p class=\"article\">\\n      <img border=\"0\" sr...  "
      ]
     },
     "execution_count": 3,
     "metadata": {},
     "output_type": "execute_result"
    }
   ],
   "source": [
    "df2"
   ]
  },
  {
   "cell_type": "code",
   "execution_count": 9,
   "metadata": {},
   "outputs": [],
   "source": [
    "import re\n",
    "for i in range(0,len(df2)):\n",
    "    df2.text[i][0] = re.sub('<[^>]+>', '', df2.text[i][0])"
   ]
  },
  {
   "cell_type": "code",
   "execution_count": 7,
   "metadata": {},
   "outputs": [
    {
     "data": {
      "text/html": [
       "<div>\n",
       "<style>\n",
       "    .dataframe thead tr:only-child th {\n",
       "        text-align: right;\n",
       "    }\n",
       "\n",
       "    .dataframe thead th {\n",
       "        text-align: left;\n",
       "    }\n",
       "\n",
       "    .dataframe tbody tr th {\n",
       "        vertical-align: top;\n",
       "    }\n",
       "</style>\n",
       "<table border=\"1\" class=\"dataframe\">\n",
       "  <thead>\n",
       "    <tr style=\"text-align: right;\">\n",
       "      <th></th>\n",
       "      <th>player name</th>\n",
       "      <th>text</th>\n",
       "    </tr>\n",
       "  </thead>\n",
       "  <tbody>\n",
       "    <tr>\n",
       "      <th>0</th>\n",
       "      <td>[Chris Moneymaker]</td>\n",
       "      <td>[\\n      Chris \\n      Moneymaker is the real ...</td>\n",
       "    </tr>\n",
       "    <tr>\n",
       "      <th>1</th>\n",
       "      <td>[Frankie O'Dell]</td>\n",
       "      <td>[\\n      The first \\n      time I met Frankie,...</td>\n",
       "    </tr>\n",
       "    <tr>\n",
       "      <th>2</th>\n",
       "      <td>[Steve Badger]</td>\n",
       "      <td>[I \\n      first met Steve Badger in 1993. I w...</td>\n",
       "    </tr>\n",
       "    <tr>\n",
       "      <th>3</th>\n",
       "      <td>[Barbara Enright]</td>\n",
       "      <td>[\\n      Barbara \\n      Enright has been play...</td>\n",
       "    </tr>\n",
       "    <tr>\n",
       "      <th>4</th>\n",
       "      <td>[Phil Hellmuth Jr.]</td>\n",
       "      <td>[\\n      Phil \\n      Hellmuth Jr. is one of t...</td>\n",
       "    </tr>\n",
       "  </tbody>\n",
       "</table>\n",
       "</div>"
      ],
      "text/plain": [
       "           player name                                               text\n",
       "0   [Chris Moneymaker]  [\\n      Chris \\n      Moneymaker is the real ...\n",
       "1     [Frankie O'Dell]  [\\n      The first \\n      time I met Frankie,...\n",
       "2       [Steve Badger]  [I \\n      first met Steve Badger in 1993. I w...\n",
       "3    [Barbara Enright]  [\\n      Barbara \\n      Enright has been play...\n",
       "4  [Phil Hellmuth Jr.]  [\\n      Phil \\n      Hellmuth Jr. is one of t..."
      ]
     },
     "execution_count": 7,
     "metadata": {},
     "output_type": "execute_result"
    }
   ],
   "source": [
    "df2.head()"
   ]
  },
  {
   "cell_type": "code",
   "execution_count": null,
   "metadata": {
    "collapsed": true
   },
   "outputs": [],
   "source": []
  }
 ],
 "metadata": {
  "kernelspec": {
   "display_name": "Python 3",
   "language": "python",
   "name": "python3"
  },
  "language_info": {
   "codemirror_mode": {
    "name": "ipython",
    "version": 3
   },
   "file_extension": ".py",
   "mimetype": "text/x-python",
   "name": "python",
   "nbconvert_exporter": "python",
   "pygments_lexer": "ipython3",
   "version": "3.6.3"
  }
 },
 "nbformat": 4,
 "nbformat_minor": 2
}
